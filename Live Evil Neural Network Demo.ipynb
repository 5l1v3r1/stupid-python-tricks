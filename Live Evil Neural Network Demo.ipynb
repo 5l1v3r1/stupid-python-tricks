{
 "cells": [
  {
   "cell_type": "code",
   "execution_count": 1,
   "metadata": {
    "collapsed": false
   },
   "outputs": [],
   "source": [
    "import cv2\n",
    "\n",
    "from evil_neural_networks import face_classifier"
   ]
  },
  {
   "cell_type": "code",
   "execution_count": 2,
   "metadata": {
    "collapsed": true
   },
   "outputs": [],
   "source": [
    "def emotion_bar(image, index, probability, title):\n",
    "    x = 150\n",
    "    y = (index+1) * 20\n",
    "    w = int(probability * 100.0+0.5)\n",
    "    cv2.putText(image, '{0}: {1:.1f}%'.format(title, probability*100.0), (0, y), cv2.FONT_HERSHEY_PLAIN, 1, (0,255,255))\n",
    "    cv2.rectangle(image,(x,y-18),(x+w,y),(0,255,255),2)"
   ]
  },
  {
   "cell_type": "code",
   "execution_count": 3,
   "metadata": {
    "collapsed": false
   },
   "outputs": [],
   "source": [
    "cap = cv2.VideoCapture(0)"
   ]
  },
  {
   "cell_type": "code",
   "execution_count": 4,
   "metadata": {
    "collapsed": false
   },
   "outputs": [
    {
     "name": "stderr",
     "output_type": "stream",
     "text": [
      "/Users/Geoff/packages/Lasagne/lasagne/init.py:86: UserWarning: The uniform initializer no longer uses Glorot et al.'s approach to determine the bounds, but defaults to the range (-0.01, 0.01) instead. Please use the new GlorotUniform initializer to get the old behavior. GlorotUniform is now the default for all layers.\n",
      "  warnings.warn(\"The uniform initializer no longer uses Glorot et al.'s \"\n",
      "/Users/Geoff/packages/Lasagne/lasagne/layers/helper.py:69: UserWarning: get_all_layers() has been changed to return layers in topological order. The former implementation is still available as get_all_layers_old(), but will be removed before the first release of Lasagne. To ignore this warning, use `warnings.filterwarnings('ignore', '.*topo.*')`.\n",
      "  warnings.warn(\"get_all_layers() has been changed to return layers in \"\n"
     ]
    }
   ],
   "source": [
    "while True:\n",
    "    success, frame = cap.read()\n",
    "    \n",
    "    if not success:\n",
    "        break\n",
    "        \n",
    "    Y_pred, face_boxes = face_classifier.detect_and_predict_face(frame)\n",
    "    \n",
    "    if Y_pred is not None:\n",
    "        for (x,y,w,h) in face_boxes:\n",
    "            cv2.rectangle(frame,(x,y),(x+w,y+h),(255,0,0),2)\n",
    "            \n",
    "        for i, emotion in enumerate(face_classifier.EMOTIONS):\n",
    "            emotion_bar(frame, i, Y_pred[i], emotion)\n",
    "        \n",
    "\n",
    "    cv2.imshow('Press ESC to exit', frame)\n",
    "    if cv2.waitKey(5) == 27:\n",
    "        break\n",
    "\n",
    "        \n",
    "cv2.destroyAllWindows()\n",
    "\n",
    "cap.release()\n",
    "\n"
   ]
  }
 ],
 "metadata": {
  "kernelspec": {
   "display_name": "Python 2",
   "language": "python",
   "name": "python2"
  },
  "language_info": {
   "codemirror_mode": {
    "name": "ipython",
    "version": 2
   },
   "file_extension": ".py",
   "mimetype": "text/x-python",
   "name": "python",
   "nbconvert_exporter": "python",
   "pygments_lexer": "ipython2",
   "version": "2.7.10"
  }
 },
 "nbformat": 4,
 "nbformat_minor": 0
}
