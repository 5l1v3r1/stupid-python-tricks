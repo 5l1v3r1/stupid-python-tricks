{
 "cells": [
  {
   "cell_type": "code",
   "execution_count": null,
   "metadata": {
    "collapsed": false
   },
   "outputs": [],
   "source": [
    "import cv2\n",
    "\n",
    "from evil_neural_networks import face_classifier"
   ]
  },
  {
   "cell_type": "code",
   "execution_count": null,
   "metadata": {
    "collapsed": true
   },
   "outputs": [],
   "source": [
    "def anno_bar(image, index, frac, title):\n",
    "    x = 150\n",
    "    y = (index+1) * 20\n",
    "    w = int(frac * 100.0+0.5)\n",
    "    cv2.putText(image, '{0}: {1:.1f}%'.format(title, frac*100.0), (0, y), cv2.FONT_HERSHEY_PLAIN, 1, (0,255,255))\n",
    "    cv2.rectangle(image,(x,y-18),(x+w,y),(0,255,255),2)"
   ]
  },
  {
   "cell_type": "code",
   "execution_count": null,
   "metadata": {
    "collapsed": false
   },
   "outputs": [],
   "source": [
    "cap = cv2.VideoCapture(0)"
   ]
  },
  {
   "cell_type": "code",
   "execution_count": null,
   "metadata": {
    "collapsed": false
   },
   "outputs": [],
   "source": [
    "while True:\n",
    "    success, frame = cap.read()\n",
    "    \n",
    "    if not success:\n",
    "        break\n",
    "        \n",
    "    Y_pred, face_boxes = face_classifier.detect_and_predict_face(frame)\n",
    "    \n",
    "    if Y_pred is not None:\n",
    "        for (x,y,w,h) in face_boxes:\n",
    "            cv2.rectangle(frame,(x,y),(x+w,y+h),(255,0,0),2)\n",
    "\n",
    "        anno_bar(frame, 0, Y_pred[0], 'Angry-ish')\n",
    "        anno_bar(frame, 1, Y_pred[1], 'Disgust-ish')\n",
    "        anno_bar(frame, 2, Y_pred[2], 'Fear-ish')\n",
    "        anno_bar(frame, 3, Y_pred[3], 'Happy-ish')\n",
    "        anno_bar(frame, 4, Y_pred[4], 'Sad-ish')\n",
    "        anno_bar(frame, 5, Y_pred[5], 'Surprise-ish')\n",
    "        anno_bar(frame, 6, Y_pred[6], 'Neutral-ish')\n",
    "        \n",
    "\n",
    "    cv2.imshow('Press ESC to exit', frame)\n",
    "    if cv2.waitKey(5) == 27:\n",
    "        break\n",
    "\n",
    "        \n",
    "cv2.destroyAllWindows()\n",
    "\n",
    "cap.close()\n",
    "\n"
   ]
  }
 ],
 "metadata": {
  "kernelspec": {
   "display_name": "Python 2",
   "language": "python",
   "name": "python2"
  },
  "language_info": {
   "codemirror_mode": {
    "name": "ipython",
    "version": 2
   },
   "file_extension": ".py",
   "mimetype": "text/x-python",
   "name": "python",
   "nbconvert_exporter": "python",
   "pygments_lexer": "ipython2",
   "version": "2.7.10"
  }
 },
 "nbformat": 4,
 "nbformat_minor": 0
}
